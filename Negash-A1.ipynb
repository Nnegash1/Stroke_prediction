{
 "cells": [
  {
   "cell_type": "markdown",
   "metadata": {
    "id": "74CYjG2JvCQP"
   },
  {
   "cell_type": "markdown",
   "metadata": {
    "id": "NVZyuD4JvCQS"
   },
   "source": [
    "Name: Nahom Negash 
   ]
  },
  {
   "cell_type": "markdown",
   "metadata": {
    "id": "qc_eGGIkvCQT"
   },
   "source": [
    "## Overview, Policies, and Learning Objectives"
   ]
  },
  {
   "cell_type": "markdown",
   "metadata": {
    "id": "aiSZH-6TvCQU"
   },
   "source": [
    "So far, you've learned very important fundamental concepts in Machine Learning such as supervised learning (e.g. classification and regression) vs unsupervised learning (e.g. clustering), overfitting, model evaluation, and performance measures (accuracy, precision, recall, AUC, MSE, etc.). You've learned that two of the most common approaches in supervised learning are regression and classification. In this assignment, you are going to practice what you've learned so far by building ML models and applying them on data.\n",
    "\n",
    "The ML task in this assignment is binary classification, stroke prediction, based on multiple features such as presence of heart disease, hypertension, BMI, etc. \n",
    "\n",
    "<b>Very Important Note:</b> Read ALL the instructions in this notebook very carefully. **Wherever the documentation link is provided, click on the links and read the documentation!** Careless reading and skipping instructions are major sources of making mistakes and losing points in your assignments. Also note that this assignment has three parts and includes multiple steps and questions. You're strongly recommended to get started early and plan to finish well before the due date. Technical problems or other issues/questions on the due date or just a day before would NOT be accepted as an excuse for extension."
   ]
  },
  {
   "cell_type": "markdown",
   "metadata": {
    "id": "pFVQj7RbvCQU"
   },
   "source": [
    "<b>Course Policy Reminder</b>\n",
    "Debugging the codes and error resolution are ALWAYS the students' responsbility regardless of the source or the cause of the error. This policy will be enforced in email communications and the office hours. Keep in mind that all assignments are individual graded tasks. Any collaboration with other students is strictly prohibited and is considered as cheating. Students should NOT share any answer, solution, or code with other students. Violations of these policies would be penalized according to UMBC academic integrity policy.\n",
    "\n",
    "**You must run ALL cells** and get the correct outputs for all cells and give complete answers to all questions. **Cells/codes with no output get zero!**\n",
    "\n",
    "Follow the instructions for each step very carefully.\n",
    "\n",
    "Wherever needed, you should replace `...` elipsis with your code.\n",
    "\n",
    "`...` may indicate one or more lines of missing codes. Some outputs are provided to you to use as reference and to verify that your output is correct.\n",
    "\n",
    "**Preprocessing Effect on Grade**: Preprocessing steps are so critical in each part and you should pay special attention to make sure that you do all preprocessing steps correctly. That is why the reference outputs have been provided in preprocessing steps. Your notebook would become ineligible for grading implementation parts if you have wrong results/outputs of preprocessing, so be extremely careful with all preprocessing steps. "
   ]
  },
  {
   "cell_type": "markdown",
   "metadata": {
    "id": "mADoYHr7vCQV"
   },
   "source": [
    "Pedagogically, this assignment will help you:\n",
    "- better understand the concepts you learned and how to use ML methods in practice. \n",
    "- learn how to work with ML libraries: Scikit-learn and XGBoost\n",
    "- practice reading documentation. This is a very important skill in ML/Data Science collaborative environments and teams."
   ]
  },
  {
   "cell_type": "markdown",
   "metadata": {
    "id": "StLGNW4tvCQV"
   },
   "source": [
    "## Installing XGBoost"
   ]
  },
  {
   "cell_type": "markdown",
   "metadata": {
    "id": "tQgH2HdBvCQW"
   },
   "source": [
    "You should install [XGBoost](https://xgboost.readthedocs.io/en/latest/install.html) for this assignment. Read the Installation Guide and follow the instructions. Running `pip install xgboost` command in the Anaconda command prompt should work for most platforms but **you are responsible for proper installation and resolving any issues that may arise in the installation process**. XGBoost is an efficient algorithm from the category of ensemble methods, i.e. a collection of predictors that work collaboratively to make predictions. You'll learn about ensemble methods more in the upcoming contents of this course."
   ]
  },
  {
   "cell_type": "markdown",
   "metadata": {
    "id": "_71OiCzgvCQW"
   },
   "source": [
    "## Import Cell"
   ]
  },
  {
   "cell_type": "markdown",
   "metadata": {
    "id": "mz9vLMqnvCQX"
   },
   "source": [
    "Import all necessary python, sklearn and xgboost modules in the following cell. **You definitely need to add to the imports as you work on the assignment.** When you import a new module, add it here in the same cell. All imports should be in this import cell."
   ]
  },
  {
   "cell_type": "code",
   "execution_count": 1,
   "metadata": {
    "id": "bXkXXjZhvCQX"
   },
   "outputs": [],
   "source": [
    "# Import necessary modules\n",
    "import pandas as pd\n",
    "import xgboost as xgb\n",
    "import matplotlib.pyplot as plt\n",
    "from sklearn import metrics\n",
    "from sklearn.preprocessing import LabelEncoder\n",
    "from sklearn.model_selection import train_test_split, GridSearchCV\n",
    "from sklearn.ensemble import RandomForestClassifier\n",
    "from sklearn.metrics import confusion_matrix, accuracy_score, balanced_accuracy_score, classification_report,recall_score, precision_score"
   ]
  },
  {
   "cell_type": "markdown",
   "metadata": {
    "id": "LwOx-dxovCQZ"
   },
   "source": [
    "## Part-I - Preprocessing"
   ]
  },
  {
   "cell_type": "markdown",
   "metadata": {
    "id": "FwBYMCYvvCQa"
   },
   "source": [
    "Download the [Stroke Prediction Dataset](https://www.kaggle.com/fedesoriano/stroke-prediction-dataset). Read the feature specifications in Kaggle page to learn more about the data. The target label is `stroke` which has two labels {0,1} representing: 1 if the patient had a stroke or 0 if not."
   ]
  },
  {
   "cell_type": "markdown",
   "metadata": {
    "id": "39S5Qq29vCQa"
   },
   "source": [
    "According to the World Health Organization (WHO) stroke is the 2nd leading cause of death globally, responsible for approximately 11% of total deaths.\n",
    "\n",
    "This dataset is used to predict whether a patient is likely to get stroke based on the input parameters like gender, age, various diseases, and smoking status. Each row in the data provides relavant information about the patient."
   ]
  },
  {
   "cell_type": "markdown",
   "metadata": {
    "id": "BBn3VnCyvCQa"
   },
   "source": [
    "You should save and extract the dataset `healthcare-dataset-stroke-data.csv` in the same working directory as your notebook. Next, you should load the data using `pandas`. Read pandas documentation to learn more about it [here](https://pandas.pydata.org/docs/user_guide/10min.html#min)"
   ]
  },
  {
   "cell_type": "markdown",
   "metadata": {
    "id": "XDPVqlInvCQb"
   },
   "source": [
    "> Load the `healthcare-dataset-stroke-data.csv` dataset using pandas [`read_csv()`](https://pandas.pydata.org/pandas-docs/stable/reference/api/pandas.read_csv.html) method."
   ]
  },
  {
   "cell_type": "code",
   "execution_count": 2,
   "metadata": {
    "id": "5Zoq7g7zvCQb",
    "outputId": "58edef7b-4f45-494a-e9b6-9cf4c6f71581"
   },
   "outputs": [
    {
     "name": "stdout",
     "output_type": "stream",
     "text": [
      "(5110, 12)\n"
     ]
    },
    {
     "data": {
      "text/html": [
       "<div>\n",
       "<style scoped>\n",
       "    .dataframe tbody tr th:only-of-type {\n",
       "        vertical-align: middle;\n",
       "    }\n",
       "\n",
       "    .dataframe tbody tr th {\n",
       "        vertical-align: top;\n",
       "    }\n",
       "\n",
       "    .dataframe thead th {\n",
       "        text-align: right;\n",
       "    }\n",
       "</style>\n",
       "<table border=\"1\" class=\"dataframe\">\n",
       "  <thead>\n",
       "    <tr style=\"text-align: right;\">\n",
       "      <th></th>\n",
       "      <th>id</th>\n",
       "      <th>gender</th>\n",
       "      <th>age</th>\n",
       "      <th>hypertension</th>\n",
       "      <th>heart_disease</th>\n",
       "      <th>ever_married</th>\n",
       "      <th>work_type</th>\n",
       "      <th>Residence_type</th>\n",
       "      <th>avg_glucose_level</th>\n",
       "      <th>bmi</th>\n",
       "      <th>smoking_status</th>\n",
       "      <th>stroke</th>\n",
       "    </tr>\n",
       "  </thead>\n",
       "  <tbody>\n",
       "    <tr>\n",
       "      <th>0</th>\n",
       "      <td>9046</td>\n",
       "      <td>Male</td>\n",
       "      <td>67.0</td>\n",
       "      <td>0</td>\n",
       "      <td>1</td>\n",
       "      <td>Yes</td>\n",
       "      <td>Private</td>\n",
       "      <td>Urban</td>\n",
       "      <td>228.69</td>\n",
       "      <td>36.6</td>\n",
       "      <td>formerly smoked</td>\n",
       "      <td>1</td>\n",
       "    </tr>\n",
       "    <tr>\n",
       "      <th>1</th>\n",
       "      <td>51676</td>\n",
       "      <td>Female</td>\n",
       "      <td>61.0</td>\n",
       "      <td>0</td>\n",
       "      <td>0</td>\n",
       "      <td>Yes</td>\n",
       "      <td>Self-employed</td>\n",
       "      <td>Rural</td>\n",
       "      <td>202.21</td>\n",
       "      <td>NaN</td>\n",
       "      <td>never smoked</td>\n",
       "      <td>1</td>\n",
       "    </tr>\n",
       "    <tr>\n",
       "      <th>2</th>\n",
       "      <td>31112</td>\n",
       "      <td>Male</td>\n",
       "      <td>80.0</td>\n",
       "      <td>0</td>\n",
       "      <td>1</td>\n",
       "      <td>Yes</td>\n",
       "      <td>Private</td>\n",
       "      <td>Rural</td>\n",
       "      <td>105.92</td>\n",
       "      <td>32.5</td>\n",
       "      <td>never smoked</td>\n",
       "      <td>1</td>\n",
       "    </tr>\n",
       "    <tr>\n",
       "      <th>3</th>\n",
       "      <td>60182</td>\n",
       "      <td>Female</td>\n",
       "      <td>49.0</td>\n",
       "      <td>0</td>\n",
       "      <td>0</td>\n",
       "      <td>Yes</td>\n",
       "      <td>Private</td>\n",
       "      <td>Urban</td>\n",
       "      <td>171.23</td>\n",
       "      <td>34.4</td>\n",
       "      <td>smokes</td>\n",
       "      <td>1</td>\n",
       "    </tr>\n",
       "    <tr>\n",
       "      <th>4</th>\n",
       "      <td>1665</td>\n",
       "      <td>Female</td>\n",
       "      <td>79.0</td>\n",
       "      <td>1</td>\n",
       "      <td>0</td>\n",
       "      <td>Yes</td>\n",
       "      <td>Self-employed</td>\n",
       "      <td>Rural</td>\n",
       "      <td>174.12</td>\n",
       "      <td>24.0</td>\n",
       "      <td>never smoked</td>\n",
       "      <td>1</td>\n",
       "    </tr>\n",
       "  </tbody>\n",
       "</table>\n",
       "</div>"
      ],
      "text/plain": [
       "      id  gender   age  hypertension  heart_disease ever_married  \\\n",
       "0   9046    Male  67.0             0              1          Yes   \n",
       "1  51676  Female  61.0             0              0          Yes   \n",
       "2  31112    Male  80.0             0              1          Yes   \n",
       "3  60182  Female  49.0             0              0          Yes   \n",
       "4   1665  Female  79.0             1              0          Yes   \n",
       "\n",
       "       work_type Residence_type  avg_glucose_level   bmi   smoking_status  \\\n",
       "0        Private          Urban             228.69  36.6  formerly smoked   \n",
       "1  Self-employed          Rural             202.21   NaN     never smoked   \n",
       "2        Private          Rural             105.92  32.5     never smoked   \n",
       "3        Private          Urban             171.23  34.4           smokes   \n",
       "4  Self-employed          Rural             174.12  24.0     never smoked   \n",
       "\n",
       "   stroke  \n",
       "0       1  \n",
       "1       1  \n",
       "2       1  \n",
       "3       1  \n",
       "4       1  "
      ]
     },
     "execution_count": 2,
     "metadata": {},
     "output_type": "execute_result"
    }
   ],
   "source": [
    "# Load the data\n",
    "data = pd.read_csv('./archive/healthcare-dataset-stroke-data.csv')\n",
    "\n",
    "# Print data shape\n",
    "print(data.shape)\n",
    "# Show the first five rows\n",
    "data.head()"
   ]
  },
  {
   "cell_type": "markdown",
   "metadata": {
    "id": "dUbuPlXVvCQc"
   },
   "source": [
    "> Let's see what the type of `data` is."
   ]
  },
  {
   "cell_type": "code",
   "execution_count": 3,
   "metadata": {
    "id": "ducignm_vCQd",
    "outputId": "a96e2b06-862b-4c31-a280-8ad8f0fa945a"
   },
   "outputs": [
    {
     "data": {
      "text/plain": [
       "pandas.core.frame.DataFrame"
      ]
     },
     "execution_count": 3,
     "metadata": {},
     "output_type": "execute_result"
    }
   ],
   "source": [
    "type(data)"
   ]
  },
  {
   "cell_type": "markdown",
   "metadata": {
    "id": "7uXZFoXjvCQd"
   },
   "source": [
    "[`DataFrame`](https://pandas.pydata.org/pandas-docs/stable/reference/api/pandas.DataFrame.html) is a data structure that contains datasets in pandas. Since this is a binary classification (supervised learning) ML model, you have both the features and the labels for training and testing, and everything has been stored in `data` DataFrame. "
   ]
  },
  {
   "cell_type": "markdown",
   "metadata": {
    "id": "PgalOs9SvCQd"
   },
   "source": [
    "> `id` column does not provide any useful information for classification, so drop it."
   ]
  },
  {
   "cell_type": "code",
   "execution_count": 4,
   "metadata": {
    "id": "RjQgr3AlvCQd",
    "outputId": "f7b54770-0a10-4310-baa0-3e7634bf8769"
   },
   "outputs": [
    {
     "data": {
      "text/html": [
       "<div>\n",
       "<style scoped>\n",
       "    .dataframe tbody tr th:only-of-type {\n",
       "        vertical-align: middle;\n",
       "    }\n",
       "\n",
       "    .dataframe tbody tr th {\n",
       "        vertical-align: top;\n",
       "    }\n",
       "\n",
       "    .dataframe thead th {\n",
       "        text-align: right;\n",
       "    }\n",
       "</style>\n",
       "<table border=\"1\" class=\"dataframe\">\n",
       "  <thead>\n",
       "    <tr style=\"text-align: right;\">\n",
       "      <th></th>\n",
       "      <th>gender</th>\n",
       "      <th>age</th>\n",
       "      <th>hypertension</th>\n",
       "      <th>heart_disease</th>\n",
       "      <th>ever_married</th>\n",
       "      <th>work_type</th>\n",
       "      <th>Residence_type</th>\n",
       "      <th>avg_glucose_level</th>\n",
       "      <th>bmi</th>\n",
       "      <th>smoking_status</th>\n",
       "      <th>stroke</th>\n",
       "    </tr>\n",
       "  </thead>\n",
       "  <tbody>\n",
       "    <tr>\n",
       "      <th>0</th>\n",
       "      <td>Male</td>\n",
       "      <td>67.0</td>\n",
       "      <td>0</td>\n",
       "      <td>1</td>\n",
       "      <td>Yes</td>\n",
       "      <td>Private</td>\n",
       "      <td>Urban</td>\n",
       "      <td>228.69</td>\n",
       "      <td>36.6</td>\n",
       "      <td>formerly smoked</td>\n",
       "      <td>1</td>\n",
       "    </tr>\n",
       "    <tr>\n",
       "      <th>1</th>\n",
       "      <td>Female</td>\n",
       "      <td>61.0</td>\n",
       "      <td>0</td>\n",
       "      <td>0</td>\n",
       "      <td>Yes</td>\n",
       "      <td>Self-employed</td>\n",
       "      <td>Rural</td>\n",
       "      <td>202.21</td>\n",
       "      <td>NaN</td>\n",
       "      <td>never smoked</td>\n",
       "      <td>1</td>\n",
       "    </tr>\n",
       "    <tr>\n",
       "      <th>2</th>\n",
       "      <td>Male</td>\n",
       "      <td>80.0</td>\n",
       "      <td>0</td>\n",
       "      <td>1</td>\n",
       "      <td>Yes</td>\n",
       "      <td>Private</td>\n",
       "      <td>Rural</td>\n",
       "      <td>105.92</td>\n",
       "      <td>32.5</td>\n",
       "      <td>never smoked</td>\n",
       "      <td>1</td>\n",
       "    </tr>\n",
       "    <tr>\n",
       "      <th>3</th>\n",
       "      <td>Female</td>\n",
       "      <td>49.0</td>\n",
       "      <td>0</td>\n",
       "      <td>0</td>\n",
       "      <td>Yes</td>\n",
       "      <td>Private</td>\n",
       "      <td>Urban</td>\n",
       "      <td>171.23</td>\n",
       "      <td>34.4</td>\n",
       "      <td>smokes</td>\n",
       "      <td>1</td>\n",
       "    </tr>\n",
       "    <tr>\n",
       "      <th>4</th>\n",
       "      <td>Female</td>\n",
       "      <td>79.0</td>\n",
       "      <td>1</td>\n",
       "      <td>0</td>\n",
       "      <td>Yes</td>\n",
       "      <td>Self-employed</td>\n",
       "      <td>Rural</td>\n",
       "      <td>174.12</td>\n",
       "      <td>24.0</td>\n",
       "      <td>never smoked</td>\n",
       "      <td>1</td>\n",
       "    </tr>\n",
       "  </tbody>\n",
       "</table>\n",
       "</div>"
      ],
      "text/plain": [
       "   gender   age  hypertension  heart_disease ever_married      work_type  \\\n",
       "0    Male  67.0             0              1          Yes        Private   \n",
       "1  Female  61.0             0              0          Yes  Self-employed   \n",
       "2    Male  80.0             0              1          Yes        Private   \n",
       "3  Female  49.0             0              0          Yes        Private   \n",
       "4  Female  79.0             1              0          Yes  Self-employed   \n",
       "\n",
       "  Residence_type  avg_glucose_level   bmi   smoking_status  stroke  \n",
       "0          Urban             228.69  36.6  formerly smoked       1  \n",
       "1          Rural             202.21   NaN     never smoked       1  \n",
       "2          Rural             105.92  32.5     never smoked       1  \n",
       "3          Urban             171.23  34.4           smokes       1  \n",
       "4          Rural             174.12  24.0     never smoked       1  "
      ]
     },
     "execution_count": 4,
     "metadata": {},
     "output_type": "execute_result"
    }
   ],
   "source": [
    "# Drop id column\n",
    "data = data.drop('id', axis=1)\n",
    "# Print data shape\n",
    "data.shape\n",
    "# Show the first five rows\n",
    "data.head()"
   ]
  },
  {
   "cell_type": "markdown",
   "metadata": {
    "id": "B5D8GggavCQe"
   },
   "source": [
    "> Next, get some insights about `data` by using `.info()` and `.describe()` methods."
   ]
  },
  {
   "cell_type": "code",
   "execution_count": 5,
   "metadata": {
    "id": "5fCLUcwdvCQe",
    "outputId": "cf5866c9-e200-4d0e-b410-4ae0dc2ad47c"
   },
   "outputs": [
    {
     "name": "stdout",
     "output_type": "stream",
     "text": [
      "<class 'pandas.core.frame.DataFrame'>\n",
      "RangeIndex: 5110 entries, 0 to 5109\n",
      "Data columns (total 11 columns):\n",
      " #   Column             Non-Null Count  Dtype  \n",
      "---  ------             --------------  -----  \n",
      " 0   gender             5110 non-null   object \n",
      " 1   age                5110 non-null   float64\n",
      " 2   hypertension       5110 non-null   int64  \n",
      " 3   heart_disease      5110 non-null   int64  \n",
      " 4   ever_married       5110 non-null   object \n",
      " 5   work_type          5110 non-null   object \n",
      " 6   Residence_type     5110 non-null   object \n",
      " 7   avg_glucose_level  5110 non-null   float64\n",
      " 8   bmi                4909 non-null   float64\n",
      " 9   smoking_status     5110 non-null   object \n",
      " 10  stroke             5110 non-null   int64  \n",
      "dtypes: float64(3), int64(3), object(5)\n",
      "memory usage: 439.3+ KB\n"
     ]
    }
   ],
   "source": [
    "data.info()"
   ]
  },
  {
   "cell_type": "code",
   "execution_count": 6,
   "metadata": {
    "id": "U2IR-eQ6vCQe",
    "outputId": "ac313fd6-78c6-4aa0-f8c5-711b78665db7"
   },
   "outputs": [
    {
     "data": {
      "text/html": [
       "<div>\n",
       "<style scoped>\n",
       "    .dataframe tbody tr th:only-of-type {\n",
       "        vertical-align: middle;\n",
       "    }\n",
       "\n",
       "    .dataframe tbody tr th {\n",
       "        vertical-align: top;\n",
       "    }\n",
       "\n",
       "    .dataframe thead th {\n",
       "        text-align: right;\n",
       "    }\n",
       "</style>\n",
       "<table border=\"1\" class=\"dataframe\">\n",
       "  <thead>\n",
       "    <tr style=\"text-align: right;\">\n",
       "      <th></th>\n",
       "      <th>age</th>\n",
       "      <th>hypertension</th>\n",
       "      <th>heart_disease</th>\n",
       "      <th>avg_glucose_level</th>\n",
       "      <th>bmi</th>\n",
       "      <th>stroke</th>\n",
       "    </tr>\n",
       "  </thead>\n",
       "  <tbody>\n",
       "    <tr>\n",
       "      <th>count</th>\n",
       "      <td>5110.000000</td>\n",
       "      <td>5110.000000</td>\n",
       "      <td>5110.000000</td>\n",
       "      <td>5110.000000</td>\n",
       "      <td>4909.000000</td>\n",
       "      <td>5110.000000</td>\n",
       "    </tr>\n",
       "    <tr>\n",
       "      <th>mean</th>\n",
       "      <td>43.226614</td>\n",
       "      <td>0.097456</td>\n",
       "      <td>0.054012</td>\n",
       "      <td>106.147677</td>\n",
       "      <td>28.893237</td>\n",
       "      <td>0.048728</td>\n",
       "    </tr>\n",
       "    <tr>\n",
       "      <th>std</th>\n",
       "      <td>22.612647</td>\n",
       "      <td>0.296607</td>\n",
       "      <td>0.226063</td>\n",
       "      <td>45.283560</td>\n",
       "      <td>7.854067</td>\n",
       "      <td>0.215320</td>\n",
       "    </tr>\n",
       "    <tr>\n",
       "      <th>min</th>\n",
       "      <td>0.080000</td>\n",
       "      <td>0.000000</td>\n",
       "      <td>0.000000</td>\n",
       "      <td>55.120000</td>\n",
       "      <td>10.300000</td>\n",
       "      <td>0.000000</td>\n",
       "    </tr>\n",
       "    <tr>\n",
       "      <th>25%</th>\n",
       "      <td>25.000000</td>\n",
       "      <td>0.000000</td>\n",
       "      <td>0.000000</td>\n",
       "      <td>77.245000</td>\n",
       "      <td>23.500000</td>\n",
       "      <td>0.000000</td>\n",
       "    </tr>\n",
       "    <tr>\n",
       "      <th>50%</th>\n",
       "      <td>45.000000</td>\n",
       "      <td>0.000000</td>\n",
       "      <td>0.000000</td>\n",
       "      <td>91.885000</td>\n",
       "      <td>28.100000</td>\n",
       "      <td>0.000000</td>\n",
       "    </tr>\n",
       "    <tr>\n",
       "      <th>75%</th>\n",
       "      <td>61.000000</td>\n",
       "      <td>0.000000</td>\n",
       "      <td>0.000000</td>\n",
       "      <td>114.090000</td>\n",
       "      <td>33.100000</td>\n",
       "      <td>0.000000</td>\n",
       "    </tr>\n",
       "    <tr>\n",
       "      <th>max</th>\n",
       "      <td>82.000000</td>\n",
       "      <td>1.000000</td>\n",
       "      <td>1.000000</td>\n",
       "      <td>271.740000</td>\n",
       "      <td>97.600000</td>\n",
       "      <td>1.000000</td>\n",
       "    </tr>\n",
       "  </tbody>\n",
       "</table>\n",
       "</div>"
      ],
      "text/plain": [
       "               age  hypertension  heart_disease  avg_glucose_level  \\\n",
       "count  5110.000000   5110.000000    5110.000000        5110.000000   \n",
       "mean     43.226614      0.097456       0.054012         106.147677   \n",
       "std      22.612647      0.296607       0.226063          45.283560   \n",
       "min       0.080000      0.000000       0.000000          55.120000   \n",
       "25%      25.000000      0.000000       0.000000          77.245000   \n",
       "50%      45.000000      0.000000       0.000000          91.885000   \n",
       "75%      61.000000      0.000000       0.000000         114.090000   \n",
       "max      82.000000      1.000000       1.000000         271.740000   \n",
       "\n",
       "               bmi       stroke  \n",
       "count  4909.000000  5110.000000  \n",
       "mean     28.893237     0.048728  \n",
       "std       7.854067     0.215320  \n",
       "min      10.300000     0.000000  \n",
       "25%      23.500000     0.000000  \n",
       "50%      28.100000     0.000000  \n",
       "75%      33.100000     0.000000  \n",
       "max      97.600000     1.000000  "
      ]
     },
     "execution_count": 6,
     "metadata": {},
     "output_type": "execute_result"
    }
   ],
   "source": [
    "data.describe()"
   ]
  },
  {
   "cell_type": "markdown",
   "metadata": {
    "id": "Ucj2SobKvCQf"
   },
   "source": [
    "> Next, you should show that the data is highly imbalanced between the two classes. You must use [`pie`](https://matplotlib.org/stable/api/_as_gen/matplotlib.pyplot.pie.html) plot from `matplotlib`. See [examples](https://matplotlib.org/stable/tutorials/introductory/sample_plots.html#pie-charts) and read documentation carefully. Your plot should PRECISELY match with the provided pie chart; otherwise it gets zero."
   ]
  },
  {
   "cell_type": "code",
   "execution_count": 7,
   "metadata": {
    "id": "3mRhuvVcvCQf",
    "outputId": "dc1df52d-0641-4ed3-9d06-9f5093f2a377"
   },
   "outputs": [
    {
     "data": {
      "image/png": "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\n",
      "text/plain": [
       "<Figure size 576x576 with 1 Axes>"
      ]
     },
     "metadata": {},
     "output_type": "display_data"
    }
   ],
   "source": [
    "''' Plot a pie chart that shows the imbalanced distribution of the two classes for stroke {0,1} [10 points]\n",
    "\n",
    "The plot plt.figure should have a figsize=(8,8)\n",
    "\n",
    "The pie plot should have the following parameter settings:\n",
    "explode = (0.1,0), \n",
    "autopct='%1.2f%%', \n",
    "shadow=False,\n",
    "startangle=90\n",
    "\n",
    "NOTE: The pie plot should get the ratios from data (NO HARDCODING),\n",
    "and should precisely match with the provided plot below with title and all settings;\n",
    "otherwise it gets zero.\n",
    "'''\n",
    "explode = (0.1,0)\n",
    "labels = ['have_stroke', 'No Stroke']\n",
    "have_stroke = data[data['stroke'] == 0]\n",
    "no_stroke = data[data['stroke'] == 1]\n",
    "have_stroke = have_stroke['stroke']\n",
    "no_stroke = no_stroke['stroke']\n",
    "list_ = []\n",
    "list_.append(have_stroke.size)\n",
    "list_.append(no_stroke.size)\n",
    "labels = ['0' , '1']\n",
    "plt.figure(figsize=(8,8))\n",
    "plt.title(\"Ratio of Strokes in the data\")\n",
    "plt.pie(list_, labels=labels, colors=['green', 'red'], autopct='%1.2f%%',explode = explode, startangle=90, shadow =False)\n",
    "plt.show()"
   ]
  },
  {
   "cell_type": "markdown",
   "metadata": {
    "id": "Od231d8-vCQf"
   },
   "source": [
    ">You should always check whether your dataset contains `NA` values and decide what to do about it. [`.isna()`](https://pandas.pydata.org/pandas-docs/stable/reference/api/pandas.DataFrame.isna.html) method followed by [`.sum()`](https://cmdlinetips.com/2020/11/how-to-get-number-of-missing-values-in-each-column-in-pandas/) method can generate good reports for na values."
   ]
  },
  {
   "cell_type": "code",
   "execution_count": 8,
   "metadata": {
    "id": "cVYSiOcwvCQf",
    "outputId": "995477dc-6c81-4ef4-d49b-32c2f52c6512"
   },
   "outputs": [
    {
     "data": {
      "text/plain": [
       "gender                 0\n",
       "age                    0\n",
       "hypertension           0\n",
       "heart_disease          0\n",
       "ever_married           0\n",
       "work_type              0\n",
       "Residence_type         0\n",
       "avg_glucose_level      0\n",
       "bmi                  201\n",
       "smoking_status         0\n",
       "stroke                 0\n",
       "dtype: int64"
      ]
     },
     "execution_count": 8,
     "metadata": {},
     "output_type": "execute_result"
    }
   ],
   "source": [
    "# Check if there is any na values in data\n",
    "data.isnull().sum()"
   ]
  },
  {
   "cell_type": "markdown",
   "metadata": {
    "id": "pAoOM1ervCQg"
   },
   "source": [
    "> The easiest way to get rid of `NA`s is to drop them, although there are sometimes better alternatives. However, since this is a highly imbalanced dataset, you should be careful about the distribution of `NA`s in each class. Let's check which class holds the majority of na values. First, split the `data` to two separate dataframes `positive` and `negative` based on `stroke` labels."
   ]
  },
  {
   "cell_type": "code",
   "execution_count": 9,
   "metadata": {
    "id": "CEjEadtJvCQg"
   },
   "outputs": [],
   "source": [
    "positive = data[data['stroke']==1]\n",
    "negative = data[data['stroke']==0]"
   ]
  },
  {
   "cell_type": "code",
   "execution_count": 10,
   "metadata": {
    "id": "qFDdJ4LXvCQg",
    "outputId": "5866af89-934b-46cc-fb0d-5d4003b4209c"
   },
   "outputs": [
    {
     "data": {
      "text/html": [
       "<div>\n",
       "<style scoped>\n",
       "    .dataframe tbody tr th:only-of-type {\n",
       "        vertical-align: middle;\n",
       "    }\n",
       "\n",
       "    .dataframe tbody tr th {\n",
       "        vertical-align: top;\n",
       "    }\n",
       "\n",
       "    .dataframe thead th {\n",
       "        text-align: right;\n",
       "    }\n",
       "</style>\n",
       "<table border=\"1\" class=\"dataframe\">\n",
       "  <thead>\n",
       "    <tr style=\"text-align: right;\">\n",
       "      <th></th>\n",
       "      <th>gender</th>\n",
       "      <th>age</th>\n",
       "      <th>hypertension</th>\n",
       "      <th>heart_disease</th>\n",
       "      <th>ever_married</th>\n",
       "      <th>work_type</th>\n",
       "      <th>Residence_type</th>\n",
       "      <th>avg_glucose_level</th>\n",
       "      <th>bmi</th>\n",
       "      <th>smoking_status</th>\n",
       "      <th>stroke</th>\n",
       "    </tr>\n",
       "  </thead>\n",
       "  <tbody>\n",
       "    <tr>\n",
       "      <th>0</th>\n",
       "      <td>Male</td>\n",
       "      <td>67.0</td>\n",
       "      <td>0</td>\n",
       "      <td>1</td>\n",
       "      <td>Yes</td>\n",
       "      <td>Private</td>\n",
       "      <td>Urban</td>\n",
       "      <td>228.69</td>\n",
       "      <td>36.6</td>\n",
       "      <td>formerly smoked</td>\n",
       "      <td>1</td>\n",
       "    </tr>\n",
       "    <tr>\n",
       "      <th>1</th>\n",
       "      <td>Female</td>\n",
       "      <td>61.0</td>\n",
       "      <td>0</td>\n",
       "      <td>0</td>\n",
       "      <td>Yes</td>\n",
       "      <td>Self-employed</td>\n",
       "      <td>Rural</td>\n",
       "      <td>202.21</td>\n",
       "      <td>NaN</td>\n",
       "      <td>never smoked</td>\n",
       "      <td>1</td>\n",
       "    </tr>\n",
       "    <tr>\n",
       "      <th>2</th>\n",
       "      <td>Male</td>\n",
       "      <td>80.0</td>\n",
       "      <td>0</td>\n",
       "      <td>1</td>\n",
       "      <td>Yes</td>\n",
       "      <td>Private</td>\n",
       "      <td>Rural</td>\n",
       "      <td>105.92</td>\n",
       "      <td>32.5</td>\n",
       "      <td>never smoked</td>\n",
       "      <td>1</td>\n",
       "    </tr>\n",
       "    <tr>\n",
       "      <th>3</th>\n",
       "      <td>Female</td>\n",
       "      <td>49.0</td>\n",
       "      <td>0</td>\n",
       "      <td>0</td>\n",
       "      <td>Yes</td>\n",
       "      <td>Private</td>\n",
       "      <td>Urban</td>\n",
       "      <td>171.23</td>\n",
       "      <td>34.4</td>\n",
       "      <td>smokes</td>\n",
       "      <td>1</td>\n",
       "    </tr>\n",
       "    <tr>\n",
       "      <th>4</th>\n",
       "      <td>Female</td>\n",
       "      <td>79.0</td>\n",
       "      <td>1</td>\n",
       "      <td>0</td>\n",
       "      <td>Yes</td>\n",
       "      <td>Self-employed</td>\n",
       "      <td>Rural</td>\n",
       "      <td>174.12</td>\n",
       "      <td>24.0</td>\n",
       "      <td>never smoked</td>\n",
       "      <td>1</td>\n",
       "    </tr>\n",
       "    <tr>\n",
       "      <th>...</th>\n",
       "      <td>...</td>\n",
       "      <td>...</td>\n",
       "      <td>...</td>\n",
       "      <td>...</td>\n",
       "      <td>...</td>\n",
       "      <td>...</td>\n",
       "      <td>...</td>\n",
       "      <td>...</td>\n",
       "      <td>...</td>\n",
       "      <td>...</td>\n",
       "      <td>...</td>\n",
       "    </tr>\n",
       "    <tr>\n",
       "      <th>244</th>\n",
       "      <td>Male</td>\n",
       "      <td>57.0</td>\n",
       "      <td>0</td>\n",
       "      <td>0</td>\n",
       "      <td>Yes</td>\n",
       "      <td>Private</td>\n",
       "      <td>Rural</td>\n",
       "      <td>84.96</td>\n",
       "      <td>36.7</td>\n",
       "      <td>Unknown</td>\n",
       "      <td>1</td>\n",
       "    </tr>\n",
       "    <tr>\n",
       "      <th>245</th>\n",
       "      <td>Female</td>\n",
       "      <td>14.0</td>\n",
       "      <td>0</td>\n",
       "      <td>0</td>\n",
       "      <td>No</td>\n",
       "      <td>children</td>\n",
       "      <td>Rural</td>\n",
       "      <td>57.93</td>\n",
       "      <td>30.9</td>\n",
       "      <td>Unknown</td>\n",
       "      <td>1</td>\n",
       "    </tr>\n",
       "    <tr>\n",
       "      <th>246</th>\n",
       "      <td>Female</td>\n",
       "      <td>75.0</td>\n",
       "      <td>0</td>\n",
       "      <td>0</td>\n",
       "      <td>Yes</td>\n",
       "      <td>Self-employed</td>\n",
       "      <td>Rural</td>\n",
       "      <td>78.80</td>\n",
       "      <td>29.3</td>\n",
       "      <td>formerly smoked</td>\n",
       "      <td>1</td>\n",
       "    </tr>\n",
       "    <tr>\n",
       "      <th>247</th>\n",
       "      <td>Male</td>\n",
       "      <td>71.0</td>\n",
       "      <td>1</td>\n",
       "      <td>0</td>\n",
       "      <td>Yes</td>\n",
       "      <td>Self-employed</td>\n",
       "      <td>Rural</td>\n",
       "      <td>87.80</td>\n",
       "      <td>NaN</td>\n",
       "      <td>Unknown</td>\n",
       "      <td>1</td>\n",
       "    </tr>\n",
       "    <tr>\n",
       "      <th>248</th>\n",
       "      <td>Female</td>\n",
       "      <td>78.0</td>\n",
       "      <td>0</td>\n",
       "      <td>0</td>\n",
       "      <td>Yes</td>\n",
       "      <td>Private</td>\n",
       "      <td>Rural</td>\n",
       "      <td>78.81</td>\n",
       "      <td>19.6</td>\n",
       "      <td>Unknown</td>\n",
       "      <td>1</td>\n",
       "    </tr>\n",
       "  </tbody>\n",
       "</table>\n",
       "<p>249 rows × 11 columns</p>\n",
       "</div>"
      ],
      "text/plain": [
       "     gender   age  hypertension  heart_disease ever_married      work_type  \\\n",
       "0      Male  67.0             0              1          Yes        Private   \n",
       "1    Female  61.0             0              0          Yes  Self-employed   \n",
       "2      Male  80.0             0              1          Yes        Private   \n",
       "3    Female  49.0             0              0          Yes        Private   \n",
       "4    Female  79.0             1              0          Yes  Self-employed   \n",
       "..      ...   ...           ...            ...          ...            ...   \n",
       "244    Male  57.0             0              0          Yes        Private   \n",
       "245  Female  14.0             0              0           No       children   \n",
       "246  Female  75.0             0              0          Yes  Self-employed   \n",
       "247    Male  71.0             1              0          Yes  Self-employed   \n",
       "248  Female  78.0             0              0          Yes        Private   \n",
       "\n",
       "    Residence_type  avg_glucose_level   bmi   smoking_status  stroke  \n",
       "0            Urban             228.69  36.6  formerly smoked       1  \n",
       "1            Rural             202.21   NaN     never smoked       1  \n",
       "2            Rural             105.92  32.5     never smoked       1  \n",
       "3            Urban             171.23  34.4           smokes       1  \n",
       "4            Rural             174.12  24.0     never smoked       1  \n",
       "..             ...                ...   ...              ...     ...  \n",
       "244          Rural              84.96  36.7          Unknown       1  \n",
       "245          Rural              57.93  30.9          Unknown       1  \n",
       "246          Rural              78.80  29.3  formerly smoked       1  \n",
       "247          Rural              87.80   NaN          Unknown       1  \n",
       "248          Rural              78.81  19.6          Unknown       1  \n",
       "\n",
       "[249 rows x 11 columns]"
      ]
     },
     "execution_count": 10,
     "metadata": {},
     "output_type": "execute_result"
    }
   ],
   "source": [
    "# Now, positive should contain only the rows with: stroke == 1\n",
    "positive"
   ]
  },
  {
   "cell_type": "code",
   "execution_count": 11,
   "metadata": {
    "id": "bxtBvWYTvCQh",
    "outputId": "5d88e537-bcf3-475a-b789-7baf92ca538f"
   },
   "outputs": [
    {
     "data": {
      "text/html": [
       "<div>\n",
       "<style scoped>\n",
       "    .dataframe tbody tr th:only-of-type {\n",
       "        vertical-align: middle;\n",
       "    }\n",
       "\n",
       "    .dataframe tbody tr th {\n",
       "        vertical-align: top;\n",
       "    }\n",
       "\n",
       "    .dataframe thead th {\n",
       "        text-align: right;\n",
       "    }\n",
       "</style>\n",
       "<table border=\"1\" class=\"dataframe\">\n",
       "  <thead>\n",
       "    <tr style=\"text-align: right;\">\n",
       "      <th></th>\n",
       "      <th>gender</th>\n",
       "      <th>age</th>\n",
       "      <th>hypertension</th>\n",
       "      <th>heart_disease</th>\n",
       "      <th>ever_married</th>\n",
       "      <th>work_type</th>\n",
       "      <th>Residence_type</th>\n",
       "      <th>avg_glucose_level</th>\n",
       "      <th>bmi</th>\n",
       "      <th>smoking_status</th>\n",
       "      <th>stroke</th>\n",
       "    </tr>\n",
       "  </thead>\n",
       "  <tbody>\n",
       "    <tr>\n",
       "      <th>249</th>\n",
       "      <td>Male</td>\n",
       "      <td>3.0</td>\n",
       "      <td>0</td>\n",
       "      <td>0</td>\n",
       "      <td>No</td>\n",
       "      <td>children</td>\n",
       "      <td>Rural</td>\n",
       "      <td>95.12</td>\n",
       "      <td>18.0</td>\n",
       "      <td>Unknown</td>\n",
       "      <td>0</td>\n",
       "    </tr>\n",
       "    <tr>\n",
       "      <th>250</th>\n",
       "      <td>Male</td>\n",
       "      <td>58.0</td>\n",
       "      <td>1</td>\n",
       "      <td>0</td>\n",
       "      <td>Yes</td>\n",
       "      <td>Private</td>\n",
       "      <td>Urban</td>\n",
       "      <td>87.96</td>\n",
       "      <td>39.2</td>\n",
       "      <td>never smoked</td>\n",
       "      <td>0</td>\n",
       "    </tr>\n",
       "    <tr>\n",
       "      <th>251</th>\n",
       "      <td>Female</td>\n",
       "      <td>8.0</td>\n",
       "      <td>0</td>\n",
       "      <td>0</td>\n",
       "      <td>No</td>\n",
       "      <td>Private</td>\n",
       "      <td>Urban</td>\n",
       "      <td>110.89</td>\n",
       "      <td>17.6</td>\n",
       "      <td>Unknown</td>\n",
       "      <td>0</td>\n",
       "    </tr>\n",
       "    <tr>\n",
       "      <th>252</th>\n",
       "      <td>Female</td>\n",
       "      <td>70.0</td>\n",
       "      <td>0</td>\n",
       "      <td>0</td>\n",
       "      <td>Yes</td>\n",
       "      <td>Private</td>\n",
       "      <td>Rural</td>\n",
       "      <td>69.04</td>\n",
       "      <td>35.9</td>\n",
       "      <td>formerly smoked</td>\n",
       "      <td>0</td>\n",
       "    </tr>\n",
       "    <tr>\n",
       "      <th>253</th>\n",
       "      <td>Male</td>\n",
       "      <td>14.0</td>\n",
       "      <td>0</td>\n",
       "      <td>0</td>\n",
       "      <td>No</td>\n",
       "      <td>Never_worked</td>\n",
       "      <td>Rural</td>\n",
       "      <td>161.28</td>\n",
       "      <td>19.1</td>\n",
       "      <td>Unknown</td>\n",
       "      <td>0</td>\n",
       "    </tr>\n",
       "    <tr>\n",
       "      <th>...</th>\n",
       "      <td>...</td>\n",
       "      <td>...</td>\n",
       "      <td>...</td>\n",
       "      <td>...</td>\n",
       "      <td>...</td>\n",
       "      <td>...</td>\n",
       "      <td>...</td>\n",
       "      <td>...</td>\n",
       "      <td>...</td>\n",
       "      <td>...</td>\n",
       "      <td>...</td>\n",
       "    </tr>\n",
       "    <tr>\n",
       "      <th>5105</th>\n",
       "      <td>Female</td>\n",
       "      <td>80.0</td>\n",
       "      <td>1</td>\n",
       "      <td>0</td>\n",
       "      <td>Yes</td>\n",
       "      <td>Private</td>\n",
       "      <td>Urban</td>\n",
       "      <td>83.75</td>\n",
       "      <td>NaN</td>\n",
       "      <td>never smoked</td>\n",
       "      <td>0</td>\n",
       "    </tr>\n",
       "    <tr>\n",
       "      <th>5106</th>\n",
       "      <td>Female</td>\n",
       "      <td>81.0</td>\n",
       "      <td>0</td>\n",
       "      <td>0</td>\n",
       "      <td>Yes</td>\n",
       "      <td>Self-employed</td>\n",
       "      <td>Urban</td>\n",
       "      <td>125.20</td>\n",
       "      <td>40.0</td>\n",
       "      <td>never smoked</td>\n",
       "      <td>0</td>\n",
       "    </tr>\n",
       "    <tr>\n",
       "      <th>5107</th>\n",
       "      <td>Female</td>\n",
       "      <td>35.0</td>\n",
       "      <td>0</td>\n",
       "      <td>0</td>\n",
       "      <td>Yes</td>\n",
       "      <td>Self-employed</td>\n",
       "      <td>Rural</td>\n",
       "      <td>82.99</td>\n",
       "      <td>30.6</td>\n",
       "      <td>never smoked</td>\n",
       "      <td>0</td>\n",
       "    </tr>\n",
       "    <tr>\n",
       "      <th>5108</th>\n",
       "      <td>Male</td>\n",
       "      <td>51.0</td>\n",
       "      <td>0</td>\n",
       "      <td>0</td>\n",
       "      <td>Yes</td>\n",
       "      <td>Private</td>\n",
       "      <td>Rural</td>\n",
       "      <td>166.29</td>\n",
       "      <td>25.6</td>\n",
       "      <td>formerly smoked</td>\n",
       "      <td>0</td>\n",
       "    </tr>\n",
       "    <tr>\n",
       "      <th>5109</th>\n",
       "      <td>Female</td>\n",
       "      <td>44.0</td>\n",
       "      <td>0</td>\n",
       "      <td>0</td>\n",
       "      <td>Yes</td>\n",
       "      <td>Govt_job</td>\n",
       "      <td>Urban</td>\n",
       "      <td>85.28</td>\n",
       "      <td>26.2</td>\n",
       "      <td>Unknown</td>\n",
       "      <td>0</td>\n",
       "    </tr>\n",
       "  </tbody>\n",
       "</table>\n",
       "<p>4861 rows × 11 columns</p>\n",
       "</div>"
      ],
      "text/plain": [
       "      gender   age  hypertension  heart_disease ever_married      work_type  \\\n",
       "249     Male   3.0             0              0           No       children   \n",
       "250     Male  58.0             1              0          Yes        Private   \n",
       "251   Female   8.0             0              0           No        Private   \n",
       "252   Female  70.0             0              0          Yes        Private   \n",
       "253     Male  14.0             0              0           No   Never_worked   \n",
       "...      ...   ...           ...            ...          ...            ...   \n",
       "5105  Female  80.0             1              0          Yes        Private   \n",
       "5106  Female  81.0             0              0          Yes  Self-employed   \n",
       "5107  Female  35.0             0              0          Yes  Self-employed   \n",
       "5108    Male  51.0             0              0          Yes        Private   \n",
       "5109  Female  44.0             0              0          Yes       Govt_job   \n",
       "\n",
       "     Residence_type  avg_glucose_level   bmi   smoking_status  stroke  \n",
       "249           Rural              95.12  18.0          Unknown       0  \n",
       "250           Urban              87.96  39.2     never smoked       0  \n",
       "251           Urban             110.89  17.6          Unknown       0  \n",
       "252           Rural              69.04  35.9  formerly smoked       0  \n",
       "253           Rural             161.28  19.1          Unknown       0  \n",
       "...             ...                ...   ...              ...     ...  \n",
       "5105          Urban              83.75   NaN     never smoked       0  \n",
       "5106          Urban             125.20  40.0     never smoked       0  \n",
       "5107          Rural              82.99  30.6     never smoked       0  \n",
       "5108          Rural             166.29  25.6  formerly smoked       0  \n",
       "5109          Urban              85.28  26.2          Unknown       0  \n",
       "\n",
       "[4861 rows x 11 columns]"
      ]
     },
     "execution_count": 11,
     "metadata": {},
     "output_type": "execute_result"
    }
   ],
   "source": [
    "# negative should contain only the rows with: stroke == 0\n",
    "negative"
   ]
  },
  {
   "cell_type": "code",
   "execution_count": 12,
   "metadata": {
    "id": "gYEEkI0jvCQh",
    "outputId": "a768db77-e687-4bf7-d221-eefa1386a7d4"
   },
   "outputs": [
    {
     "data": {
      "text/plain": [
       "gender                0\n",
       "age                   0\n",
       "hypertension          0\n",
       "heart_disease         0\n",
       "ever_married          0\n",
       "work_type             0\n",
       "Residence_type        0\n",
       "avg_glucose_level     0\n",
       "bmi                  40\n",
       "smoking_status        0\n",
       "stroke                0\n",
       "dtype: int64"
      ]
     },
     "execution_count": 12,
     "metadata": {},
     "output_type": "execute_result"
    }
   ],
   "source": [
    "# check na for positive\n",
    "positive.isnull().sum()"
   ]
  },
  {
   "cell_type": "code",
   "execution_count": 13,
   "metadata": {
    "id": "WgBIf6BuvCQh",
    "outputId": "48083092-06d9-4060-b621-32aa9a778ce0"
   },
   "outputs": [
    {
     "data": {
      "text/plain": [
       "gender                 0\n",
       "age                    0\n",
       "hypertension           0\n",
       "heart_disease          0\n",
       "ever_married           0\n",
       "work_type              0\n",
       "Residence_type         0\n",
       "avg_glucose_level      0\n",
       "bmi                  161\n",
       "smoking_status         0\n",
       "stroke                 0\n",
       "dtype: int64"
      ]
     },
     "execution_count": 13,
     "metadata": {},
     "output_type": "execute_result"
    }
   ],
   "source": [
    "# check na for negative\n",
    "negative.isnull().sum()"
   ]
  },
  {
   "cell_type": "markdown",
   "metadata": {
    "id": "FPMaWUBwvCQh"
   },
   "source": [
    "> Ok, it turned out that most na values are in negative class. So, you can drop all `NA`s now."
   ]
  },
  {
   "cell_type": "code",
   "execution_count": 14,
   "metadata": {
    "id": "x3H7mfphvCQh"
   },
   "outputs": [],
   "source": [
    "# Drop na from data\n",
    "data = data.dropna()"
   ]
  },
  {
   "cell_type": "code",
   "execution_count": 15,
   "metadata": {
    "id": "y0m3xefkvCQi",
    "outputId": "17d719d4-b434-480d-8b56-9e10c06a2670"
   },
   "outputs": [
    {
     "data": {
      "text/plain": [
       "gender               0\n",
       "age                  0\n",
       "hypertension         0\n",
       "heart_disease        0\n",
       "ever_married         0\n",
       "work_type            0\n",
       "Residence_type       0\n",
       "avg_glucose_level    0\n",
       "bmi                  0\n",
       "smoking_status       0\n",
       "stroke               0\n",
       "dtype: int64"
      ]
     },
     "execution_count": 15,
     "metadata": {},
     "output_type": "execute_result"
    }
   ],
   "source": [
    "# Double-check that there is no NAs anymore\n",
    "data.isnull().sum()"
   ]
  },
  {
   "cell_type": "markdown",
   "metadata": {
    "id": "w16_7r2wvCQi"
   },
   "source": [
    "> Next, you should convert all categorical features such as `gender` to numeric. [`LabelEncoder`](https://scikit-learn.org/stable/modules/generated/sklearn.preprocessing.LabelEncoder.html) is quite helpful for this conversion.\n",
    "\n",
    "> **NOTE**: Make sure that all categorical values have been converted to numeric as the following dataframe shows."
   ]
  },
  {
   "cell_type": "code",
   "execution_count": 16,
   "metadata": {
    "id": "nClll3MdvCQi",
    "outputId": "92267dc4-dd21-4e28-eb8e-a1d032a8b56f"
   },
   "outputs": [
    {
     "data": {
      "text/html": [
       "<div>\n",
       "<style scoped>\n",
       "    .dataframe tbody tr th:only-of-type {\n",
       "        vertical-align: middle;\n",
       "    }\n",
       "\n",
       "    .dataframe tbody tr th {\n",
       "        vertical-align: top;\n",
       "    }\n",
       "\n",
       "    .dataframe thead th {\n",
       "        text-align: right;\n",
       "    }\n",
       "</style>\n",
       "<table border=\"1\" class=\"dataframe\">\n",
       "  <thead>\n",
       "    <tr style=\"text-align: right;\">\n",
       "      <th></th>\n",
       "      <th>gender</th>\n",
       "      <th>age</th>\n",
       "      <th>hypertension</th>\n",
       "      <th>heart_disease</th>\n",
       "      <th>ever_married</th>\n",
       "      <th>work_type</th>\n",
       "      <th>Residence_type</th>\n",
       "      <th>avg_glucose_level</th>\n",
       "      <th>bmi</th>\n",
       "      <th>smoking_status</th>\n",
       "      <th>stroke</th>\n",
       "    </tr>\n",
       "  </thead>\n",
       "  <tbody>\n",
       "    <tr>\n",
       "      <th>0</th>\n",
       "      <td>1</td>\n",
       "      <td>88</td>\n",
       "      <td>0</td>\n",
       "      <td>1</td>\n",
       "      <td>1</td>\n",
       "      <td>2</td>\n",
       "      <td>1</td>\n",
       "      <td>3734</td>\n",
       "      <td>239</td>\n",
       "      <td>1</td>\n",
       "      <td>1</td>\n",
       "    </tr>\n",
       "    <tr>\n",
       "      <th>2</th>\n",
       "      <td>1</td>\n",
       "      <td>101</td>\n",
       "      <td>0</td>\n",
       "      <td>1</td>\n",
       "      <td>1</td>\n",
       "      <td>2</td>\n",
       "      <td>0</td>\n",
       "      <td>2429</td>\n",
       "      <td>198</td>\n",
       "      <td>2</td>\n",
       "      <td>1</td>\n",
       "    </tr>\n",
       "    <tr>\n",
       "      <th>3</th>\n",
       "      <td>0</td>\n",
       "      <td>70</td>\n",
       "      <td>0</td>\n",
       "      <td>0</td>\n",
       "      <td>1</td>\n",
       "      <td>2</td>\n",
       "      <td>1</td>\n",
       "      <td>3309</td>\n",
       "      <td>217</td>\n",
       "      <td>3</td>\n",
       "      <td>1</td>\n",
       "    </tr>\n",
       "    <tr>\n",
       "      <th>4</th>\n",
       "      <td>0</td>\n",
       "      <td>100</td>\n",
       "      <td>1</td>\n",
       "      <td>0</td>\n",
       "      <td>1</td>\n",
       "      <td>3</td>\n",
       "      <td>0</td>\n",
       "      <td>3318</td>\n",
       "      <td>113</td>\n",
       "      <td>2</td>\n",
       "      <td>1</td>\n",
       "    </tr>\n",
       "    <tr>\n",
       "      <th>5</th>\n",
       "      <td>1</td>\n",
       "      <td>102</td>\n",
       "      <td>0</td>\n",
       "      <td>0</td>\n",
       "      <td>1</td>\n",
       "      <td>2</td>\n",
       "      <td>1</td>\n",
       "      <td>3367</td>\n",
       "      <td>163</td>\n",
       "      <td>1</td>\n",
       "      <td>1</td>\n",
       "    </tr>\n",
       "    <tr>\n",
       "      <th>6</th>\n",
       "      <td>1</td>\n",
       "      <td>95</td>\n",
       "      <td>1</td>\n",
       "      <td>1</td>\n",
       "      <td>1</td>\n",
       "      <td>2</td>\n",
       "      <td>0</td>\n",
       "      <td>579</td>\n",
       "      <td>147</td>\n",
       "      <td>2</td>\n",
       "      <td>1</td>\n",
       "    </tr>\n",
       "    <tr>\n",
       "      <th>7</th>\n",
       "      <td>0</td>\n",
       "      <td>90</td>\n",
       "      <td>0</td>\n",
       "      <td>0</td>\n",
       "      <td>0</td>\n",
       "      <td>2</td>\n",
       "      <td>1</td>\n",
       "      <td>1910</td>\n",
       "      <td>101</td>\n",
       "      <td>2</td>\n",
       "      <td>1</td>\n",
       "    </tr>\n",
       "    <tr>\n",
       "      <th>9</th>\n",
       "      <td>0</td>\n",
       "      <td>99</td>\n",
       "      <td>0</td>\n",
       "      <td>0</td>\n",
       "      <td>1</td>\n",
       "      <td>2</td>\n",
       "      <td>1</td>\n",
       "      <td>124</td>\n",
       "      <td>115</td>\n",
       "      <td>0</td>\n",
       "      <td>1</td>\n",
       "    </tr>\n",
       "    <tr>\n",
       "      <th>10</th>\n",
       "      <td>0</td>\n",
       "      <td>102</td>\n",
       "      <td>1</td>\n",
       "      <td>0</td>\n",
       "      <td>1</td>\n",
       "      <td>2</td>\n",
       "      <td>0</td>\n",
       "      <td>1140</td>\n",
       "      <td>170</td>\n",
       "      <td>2</td>\n",
       "      <td>1</td>\n",
       "    </tr>\n",
       "    <tr>\n",
       "      <th>11</th>\n",
       "      <td>0</td>\n",
       "      <td>82</td>\n",
       "      <td>0</td>\n",
       "      <td>1</td>\n",
       "      <td>1</td>\n",
       "      <td>0</td>\n",
       "      <td>0</td>\n",
       "      <td>2864</td>\n",
       "      <td>241</td>\n",
       "      <td>3</td>\n",
       "      <td>1</td>\n",
       "    </tr>\n",
       "  </tbody>\n",
       "</table>\n",
       "</div>"
      ],
      "text/plain": [
       "    gender  age  hypertension  heart_disease  ever_married  work_type  \\\n",
       "0        1   88             0              1             1          2   \n",
       "2        1  101             0              1             1          2   \n",
       "3        0   70             0              0             1          2   \n",
       "4        0  100             1              0             1          3   \n",
       "5        1  102             0              0             1          2   \n",
       "6        1   95             1              1             1          2   \n",
       "7        0   90             0              0             0          2   \n",
       "9        0   99             0              0             1          2   \n",
       "10       0  102             1              0             1          2   \n",
       "11       0   82             0              1             1          0   \n",
       "\n",
       "    Residence_type  avg_glucose_level  bmi  smoking_status  stroke  \n",
       "0                1               3734  239               1       1  \n",
       "2                0               2429  198               2       1  \n",
       "3                1               3309  217               3       1  \n",
       "4                0               3318  113               2       1  \n",
       "5                1               3367  163               1       1  \n",
       "6                0                579  147               2       1  \n",
       "7                1               1910  101               2       1  \n",
       "9                1                124  115               0       1  \n",
       "10               0               1140  170               2       1  \n",
       "11               0               2864  241               3       1  "
      ]
     },
     "execution_count": 16,
     "metadata": {},
     "output_type": "execute_result"
    }
   ],
   "source": [
    "#  Using LabelEncoder transform all categorical values to numeric\n",
    "le = LabelEncoder()\n",
    "\n",
    "transformed_data = data.apply(LabelEncoder().fit_transform)\n",
    "# Show the first 10 rows of transformed_data\n",
    "transformed_data.head(10)"
   ]
  },
  {
   "cell_type": "markdown",
   "metadata": {
    "id": "mOWJcMhDvCQi"
   },
   "source": [
    "> Next, you should separate `X` (features) from `y` (labels)."
   ]
  },
  {
   "cell_type": "code",
   "execution_count": 17,
   "metadata": {
    "id": "TfJozUNdvCQj",
    "outputId": "fe2b53f6-c4a3-4e76-ca21-6addbe12261c"
   },
   "outputs": [
    {
     "name": "stdout",
     "output_type": "stream",
     "text": [
      "(4909, 10)\n",
      "(4909,)\n"
     ]
    }
   ],
   "source": [
    "# Get feature vector X (all columns but \"stroke\") and target label y as \"stroke\"; y should contain stroke only\n",
    "\n",
    "X = transformed_data[['gender', 'age', 'hypertension', 'heart_disease', 'ever_married',\n",
    "       'work_type', 'Residence_type', 'avg_glucose_level', 'bmi',\n",
    "       'smoking_status']]\n",
    "y = transformed_data['stroke']\n",
    "\n",
    "# Print X,y shapes\n",
    "print(X.shape)\n",
    "print(y.shape)\n",
    "\n",
    "# Show the first five rows of X\n"
   ]
  },
  {
   "cell_type": "code",
   "execution_count": 18,
   "metadata": {
    "id": "Pe2VM_cZvCQj",
    "outputId": "2a108658-cf44-4253-84f1-8c0667128617"
   },
   "outputs": [
    {
     "data": {
      "text/plain": [
       "0    1\n",
       "2    1\n",
       "3    1\n",
       "4    1\n",
       "5    1\n",
       "Name: stroke, dtype: int64"
      ]
     },
     "execution_count": 18,
     "metadata": {},
     "output_type": "execute_result"
    }
   ],
   "source": [
    "# Show the first five rows of y\n",
    "y.head()"
   ]
  },
  {
   "cell_type": "markdown",
   "metadata": {
    "id": "3ohM8xGBvCQj"
   },
   "source": [
    "> As mentioned in the lectures, the data for supervised learning (both classification and regression) is split into training set and test set. We usually do this by using [`train_test_split()`](https://scikit-learn.org/stable/modules/generated/sklearn.model_selection.train_test_split.html) module from scikit-learn."
   ]
  },
  {
   "cell_type": "code",
   "execution_count": 19,
   "metadata": {
    "id": "oTi2YWW2vCQj",
    "outputId": "896990b8-ab62-4e55-9e1d-cb4c7bb23114"
   },
   "outputs": [
    {
     "name": "stdout",
     "output_type": "stream",
     "text": [
      "(3436, 10)\n",
      "(3436,)\n",
      "(1473, 10)\n",
      "(1473,)\n"
     ]
    }
   ],
   "source": [
    "# Split X,y to train and test with ratio of 70/30 for train/test respectively\n",
    "X_train, X_test, y_train, y_test = train_test_split(X, y, test_size=0.3, random_state=42)\n",
    "\n",
    "# Print X_train, y_train, X_test, y_test (in the same order)\n",
    "print(X_train.shape)\n",
    "print(y_train.shape)\n",
    "print(X_test.shape)\n",
    "print(y_test.shape)"
   ]
  },
  {
   "cell_type": "markdown",
   "metadata": {
    "id": "0iXF7Bs-vCQk"
   },
   "source": [
    "## Part-II Binary Classification with Random Forest and XGBoost"
   ]
  },
  {
   "cell_type": "markdown",
   "metadata": {
    "id": "26bxGgwmvCQk"
   },
   "source": [
    "Now that the data is prepared, you can train and test classifiers for binary classification. You are going to use Random Forest and XGBoost classifiers. Both of these classifiers are commonly used in ML projects and every ML engineer or Data Scientist should know how to work with them.\n",
    "\n",
    "Note that we use [`.fit()`](https://scikit-learn.org/stable/modules/generated/sklearn.ensemble.RandomForestClassifier.html#sklearn.ensemble.RandomForestClassifier.fit) method applied on `(X_train, y_train)` for training and [`.predict()`](https://scikit-learn.org/stable/modules/generated/sklearn.ensemble.RandomForestClassifier.html#sklearn.ensemble.RandomForestClassifier.predict) method applied on `(X_test)` without showing the lables `y_test` for making predictions (testing). Click on the methods and read their sklearn documentation for further information. XGBoost documentation for [`.fit()`](https://xgboost.readthedocs.io/en/latest/python/python_api.html#xgboost.dask.DaskXGBRanker.fit) and [`.predict()`](https://xgboost.readthedocs.io/en/latest/python/python_api.html#xgboost.dask.DaskXGBRanker.predict) methods suggests that their usage is similar to sklearn. You should also check the textbook codes in Chapter-3 and the supplementary materials (Jupyter Notebooks) to learn more."
   ]
  },
  {
   "cell_type": "code",
   "execution_count": 20,
   "metadata": {
    "colab": {
     "base_uri": "https://localhost:8080/"
    },
    "id": "yCpJqtMVvCQk",
    "outputId": "364cb237-9732-4baf-829f-ff5da90b1f68"
   },
   "outputs": [
    {
     "data": {
      "text/plain": [
       "RandomForestClassifier()"
      ]
     },
     "execution_count": 20,
     "metadata": {},
     "output_type": "execute_result"
    }
   ],
   "source": [
    "# Create an rf classifier and train it on (X_train, y_train)\n",
    "rf = RandomForestClassifier()\n",
    "rf.fit(X_train, y_train)"
   ]
  },
  {
   "cell_type": "code",
   "execution_count": 21,
   "metadata": {
    "id": "nh8czl2tvCQk"
   },
   "outputs": [],
   "source": [
    "# Test rf on X_test\n",
    "rf_predictions = rf.predict(X_test)"
   ]
  },
  {
   "cell_type": "code",
   "execution_count": 22,
   "metadata": {
    "colab": {
     "base_uri": "https://localhost:8080/"
    },
    "id": "v7EOSeOCvCQl",
    "outputId": "8a8ed9fb-ab63-4bf1-8e8b-4f3e9a2b4d80"
   },
   "outputs": [
    {
     "name": "stdout",
     "output_type": "stream",
     "text": [
      "Random Forest confusion matrix: \n",
      " [[1401    0]\n",
      " [  71    1]]\n"
     ]
    }
   ],
   "source": [
    "# Print confusion matrix for rf\n",
    "\n",
    "rf_matrix = confusion_matrix(y_test, rf_predictions)\n",
    "print('Random Forest confusion matrix: \\n {}'.format(rf_matrix))"
   ]
  },
  {
   "cell_type": "code",
   "execution_count": 23,
   "metadata": {
    "colab": {
     "base_uri": "https://localhost:8080/"
    },
    "id": "RJp4FSfKvCQl",
    "outputId": "d559fab0-f009-484e-be84-58f26548f4f4"
   },
   "outputs": [
    {
     "name": "stdout",
     "output_type": "stream",
     "text": [
      "Random Forest accuracy:  0.9517990495587237\n"
     ]
    }
   ],
   "source": [
    "# Compute the accuracy score for rf\n",
    "rf_acc = accuracy_score(y_test, rf_predictions)\n",
    "print('Random Forest accuracy: ', rf_acc)"
   ]
  },
  {
   "cell_type": "markdown",
   "metadata": {
    "id": "lLmWHMx6vCQl"
   },
   "source": [
    "> It looks like the `rf` has a high accuracy, but be careful before making conclusions as the data is highly imbalanced! Let's get the [Balanced Accuracy](https://scikit-learn.org/stable/modules/generated/sklearn.metrics.balanced_accuracy_score.html) to get better insight about the `rf` classifier performance."
   ]
  },
  {
   "cell_type": "code",
   "execution_count": 24,
   "metadata": {
    "colab": {
     "base_uri": "https://localhost:8080/"
    },
    "id": "aMldvBVXvCQm",
    "outputId": "a4777cb4-f497-4760-aa6c-fbe3de4656c8"
   },
   "outputs": [
    {
     "name": "stdout",
     "output_type": "stream",
     "text": [
      "Random Forest balanced accuracy:  0.5069444444444444\n"
     ]
    }
   ],
   "source": [
    "# Compute the balanced accuracy score for rf\n",
    "rf_bal_acc = balanced_accuracy_score(y_test, rf_predictions)\n",
    "print('Random Forest balanced accuracy: ', rf_bal_acc)"
   ]
  },
  {
   "cell_type": "markdown",
   "metadata": {
    "id": "Khtqdz5yvCQm"
   },
   "source": [
    "> Next, get [`classification_report`](https://scikit-learn.org/stable/modules/generated/sklearn.metrics.classification_report.html) for `rf`."
   ]
  },
  {
   "cell_type": "code",
   "execution_count": 25,
   "metadata": {
    "colab": {
     "base_uri": "https://localhost:8080/"
    },
    "id": "Sq1XfBBjvCQm",
    "outputId": "b370ee38-f67d-4343-ae56-2b806a6a12d2"
   },
   "outputs": [
    {
     "name": "stdout",
     "output_type": "stream",
     "text": [
      "              precision    recall  f1-score   support\n",
      "\n",
      "           0       0.95      1.00      0.98      1401\n",
      "           1       1.00      0.01      0.03        72\n",
      "\n",
      "    accuracy                           0.95      1473\n",
      "   macro avg       0.98      0.51      0.50      1473\n",
      "weighted avg       0.95      0.95      0.93      1473\n",
      "\n"
     ]
    }
   ],
   "source": [
    "# Get classification_report for rf\n",
    "# Note: you should put one line inside print\n",
    "print(classification_report(y_test, rf_predictions))"
   ]
  },
  {
   "cell_type": "markdown",
   "metadata": {
    "id": "RqpywbNkvCQm"
   },
   "source": [
    "> Next, train and test XGBoost classifier."
   ]
  },
  {
   "cell_type": "code",
   "execution_count": 26,
   "metadata": {
    "id": "Yxi9yWuyvCQm"
   },
   "outputs": [
    {
     "name": "stdout",
     "output_type": "stream",
     "text": [
      "[15:43:16] WARNING: /opt/concourse/worker/volumes/live/7a2b9f41-3287-451b-6691-43e9a6c0910f/volume/xgboost-split_1619728204606/work/src/learner.cc:541: \n",
      "Parameters: { random } might not be used.\n",
      "\n",
      "  This may not be accurate due to some parameters are only used in language bindings but\n",
      "  passed down to XGBoost core.  Or some parameters are not used but slip through this\n",
      "  verification. Please open an issue if you find above cases.\n",
      "\n",
      "\n",
      "[15:43:16] WARNING: /opt/concourse/worker/volumes/live/7a2b9f41-3287-451b-6691-43e9a6c0910f/volume/xgboost-split_1619728204606/work/src/learner.cc:1061: Starting in XGBoost 1.3.0, the default evaluation metric used with the objective 'binary:logistic' was changed from 'error' to 'logloss'. Explicitly set eval_metric if you'd like to restore the old behavior.\n"
     ]
    }
   ],
   "source": [
    "# Train and test XGBoost, ignore the version warning if any\n",
    "xgb = xgb.XGBRFClassifier(random=42,use_label_encoder=False)\n",
    "xgb.fit(X_train, y_train)\n",
    "xgb_predictions = xgb.predict(X_test)"
   ]
  },
  {
   "cell_type": "code",
   "execution_count": 27,
   "metadata": {
    "colab": {
     "base_uri": "https://localhost:8080/"
    },
    "id": "i-NH9vScvCQn",
    "outputId": "559ebb56-0dae-4116-a1ab-a1694c9e2821"
   },
   "outputs": [
    {
     "name": "stdout",
     "output_type": "stream",
     "text": [
      "XGBoost accuracy:  0.9511201629327902\n",
      "XGBoost confusion matrix: \n",
      " [[1401    0]\n",
      " [  72    0]]\n"
     ]
    }
   ],
   "source": [
    "# Compute the accuracy and confusion matrix for xgb\n",
    "xgb_acc = accuracy_score(y_test, xgb_predictions)\n",
    "print('XGBoost accuracy: ', xgb_acc)\n",
    "xgb_matrix = confusion_matrix(y_test, xgb_predictions)\n",
    "print('XGBoost confusion matrix: \\n {}'.format(xgb_matrix))"
   ]
  },
  {
   "cell_type": "code",
   "execution_count": 28,
   "metadata": {
    "colab": {
     "base_uri": "https://localhost:8080/"
    },
    "id": "WRrWwnelvCQn",
    "outputId": "114773cd-d6ab-4109-c807-1f5a4d2b1772"
   },
   "outputs": [
    {
     "name": "stdout",
     "output_type": "stream",
     "text": [
      "XGBoost accuracy:  0.5\n"
     ]
    }
   ],
   "source": [
    "# Compute the balanced accuracy for xgb\n",
    "xgb_bal_acc = balanced_accuracy_score(y_test, xgb_predictions)\n",
    "print('XGBoost accuracy: ', xgb_bal_acc)"
   ]
  },
  {
   "cell_type": "code",
   "execution_count": 29,
   "metadata": {
    "colab": {
     "base_uri": "https://localhost:8080/"
    },
    "id": "IQe4jw6KvCQn",
    "outputId": "0e8d7f63-2d89-47f1-d3dd-88c1b755bb1b"
   },
   "outputs": [
    {
     "name": "stdout",
     "output_type": "stream",
     "text": [
      "              precision    recall  f1-score   support\n",
      "\n",
      "           0       0.95      1.00      0.97      1401\n",
      "           1       0.00      0.00      0.00        72\n",
      "\n",
      "    accuracy                           0.95      1473\n",
      "   macro avg       0.48      0.50      0.49      1473\n",
      "weighted avg       0.90      0.95      0.93      1473\n",
      "\n"
     ]
    },
    {
     "name": "stderr",
     "output_type": "stream",
     "text": [
      "/opt/anaconda3/lib/python3.8/site-packages/sklearn/metrics/_classification.py:1245: UndefinedMetricWarning: Precision and F-score are ill-defined and being set to 0.0 in labels with no predicted samples. Use `zero_division` parameter to control this behavior.\n",
      "  _warn_prf(average, modifier, msg_start, len(result))\n",
      "/opt/anaconda3/lib/python3.8/site-packages/sklearn/metrics/_classification.py:1245: UndefinedMetricWarning: Precision and F-score are ill-defined and being set to 0.0 in labels with no predicted samples. Use `zero_division` parameter to control this behavior.\n",
      "  _warn_prf(average, modifier, msg_start, len(result))\n",
      "/opt/anaconda3/lib/python3.8/site-packages/sklearn/metrics/_classification.py:1245: UndefinedMetricWarning: Precision and F-score are ill-defined and being set to 0.0 in labels with no predicted samples. Use `zero_division` parameter to control this behavior.\n",
      "  _warn_prf(average, modifier, msg_start, len(result))\n"
     ]
    }
   ],
   "source": [
    "# Get classification_report for xgb\n",
    "print(classification_report(y_test, xgb_predictions))"
   ]
  },
  {
   "cell_type": "code",
   "execution_count": 30,
   "metadata": {
    "colab": {
     "base_uri": "https://localhost:8080/"
    },
    "id": "qZVGQb94vCQn",
    "outputId": "204a2811-e4b0-48c6-f457-421f2d7bfab6"
   },
   "outputs": [
    {
     "name": "stdout",
     "output_type": "stream",
     "text": [
      "RF precision =  1.0\n",
      "XGBoost precision =  0.0\n",
      "RF recall =  0.013888888888888888\n",
      "XGBoost recall =  0.0\n"
     ]
    },
    {
     "name": "stderr",
     "output_type": "stream",
     "text": [
      "/opt/anaconda3/lib/python3.8/site-packages/sklearn/metrics/_classification.py:1245: UndefinedMetricWarning: Precision is ill-defined and being set to 0.0 due to no predicted samples. Use `zero_division` parameter to control this behavior.\n",
      "  _warn_prf(average, modifier, msg_start, len(result))\n"
     ]
    }
   ],
   "source": [
    "# Compute and print precision and recall scores for rf and xgb\n",
    "print('RF precision = ',rf_matrix[1][1]/(rf_matrix[1][1] + rf_matrix[0][1]))\n",
    "print('XGBoost precision = ', precision_score(y_test, xgb_predictions)) #due to zero division i am getting error\n",
    "print('RF recall = ',rf_matrix[1][1]/(rf_matrix[1][1] + rf_matrix[1][0]))\n",
    "print('XGBoost recall = ',xgb_matrix[1][1]/(xgb_matrix[1][1] + xgb_matrix[1][0]))"
   ]
  },
  {
   "cell_type": "markdown",
   "metadata": {
    "id": "d1g8tlJWvCQo"
   },
   "source": [
    "### Part-II Questions"
   ]
  },
  {
   "cell_type": "markdown",
   "metadata": {
    "id": "D0xMcKNgvCQo"
   },
   "source": [
    "- **Q1** [8 points] - Check sklearn documentation for [`confusion_matrix`](https://scikit-learn.org/stable/modules/generated/sklearn.metrics.confusion_matrix.html) and specify the number of True Positives (TP), True Negatives (TN), False Positives (FP) and False Negatives (FN) for Random Forest and XGBoost classifiers."
   ]
  },
  {
   "cell_type": "code",
   "execution_count": 31,
   "metadata": {
    "colab": {
     "base_uri": "https://localhost:8080/",
     "height": 237
    },
    "id": "Zr9kUEMTvCQo",
    "outputId": "70de624e-966e-4523-d417-63bb4eb77b48"
   },
   "outputs": [
    {
     "name": "stdout",
     "output_type": "stream",
     "text": [
      "TP =  1\n",
      "TN =  1401\n",
      "FP =  0\n",
      "FN =  71\n"
     ]
    }
   ],
   "source": [
    "tn, fp, fn, tp = rf_matrix[0][0],rf_matrix[0][1],rf_matrix[1][0],rf_matrix[1][1]  \n",
    "print('TP = ', tp)\n",
    "print('TN = ', tn)\n",
    "print('FP = ', fp)\n",
    "print('FN = ', fn)"
   ]
  },
  {
   "cell_type": "code",
   "execution_count": 32,
   "metadata": {
    "id": "TjFUEu7rvCQo"
   },
   "outputs": [
    {
     "name": "stdout",
     "output_type": "stream",
     "text": [
      "TP =  0\n",
      "TN =  1401\n",
      "FP =  0\n",
      "FN =  72\n"
     ]
    }
   ],
   "source": [
    "tn, fp, fn, tp = xgb_matrix[0][0],xgb_matrix[0][1],xgb_matrix[1][0],xgb_matrix[1][1]   \n",
    "print('TP = ', tp)\n",
    "print('TN = ', tn)\n",
    "print('FP = ', fp)\n",
    "print('FN = ', fn)"
   ]
  },
  {
   "cell_type": "markdown",
   "metadata": {
    "id": "TwKlfhddvCQp"
   },
   "source": [
    "- **Q2** [2 points] - Why don't you include `y_test` when you apply `.predict()` method on `X_test`?\n",
    "\n",
    "ANSWER: The predict method is trying to test our model, and the y_test is the answer to the test. If we provide the answer to the test, the test would be ineligible. Rather, we should take the predicted values and test the accuray with y_test values. "
   ]
  },
  {
   "cell_type": "markdown",
   "metadata": {
    "id": "9y1W_NPnvCQp"
   },
   "source": [
    "- **Q3** [10 points]\n",
    "    - (a) Based on the balanced accuracy, classification report, precision and recall scores, how do you evaluate the performance of `rf` and `xgb` classifiers for this problem?(4 points)\n",
    "    \n",
    "    - (b) Is accuracy a good indicator of classifier performance for this problem? Why? (2 points)\n",
    "\n",
    "    - (c) What would you do to improve the results for this imbalanced dataset?(4 points) \n",
    "\n",
    "ANSWER: EXPLAIN COMPLETELY for (a), (b) and (c). Incomplete answers will get zero.\n",
    "\n",
    "(a) Based on the report received, we should consider using balanced_accuracy. Balanced accuracy would give as the most accurate answer because it considers the (recall + precision)/2, which keeps both recall and precision balanced. \n",
    "\n",
    "\n",
    "(b) For this problem, accuray would not be a good indicator of the classifiers performance. Accuracy test the fraction of predictions our model guessed correctly. The current dataset is an imbalance or highly skewed dataset, which means the dataset have a majority of one class. Furthermore, the accuracy function will not consider the imbalance dataset, and would give a misleading score value.\n",
    "\n",
    "\n",
    "(c) The improve our model we need to fix our dataset. The major cause of imbalance dataset are Biased Sampling, and measurmnet error. The first thing we need to consider doing before building our model is resampling the training set. We can use different method to resample. 1. Under-sampling: we can balance the dataset by reducing the majorty class.\n",
    "2. Over-Sampling: If we dont have enough data to apply under-sampling method. We can try to increase the about of data from the minority class. "
   ]
  },
  {
   "cell_type": "markdown",
   "metadata": {
    "id": "3LmYRjhEvCQp"
   },
   "source": [
    "## Part-III Hyperparameter Tuning, Grid Search, and ROC Curves"
   ]
  },
  {
   "cell_type": "markdown",
   "metadata": {
    "id": "EulwRsijvCQp"
   },
   "source": [
    "Next, you're going to tune the hyperparameters of the random forest classifier to check whether it can improve the results. You should use [`GridSearchCV`](https://scikit-learn.org/stable/modules/generated/sklearn.model_selection.GridSearchCV.html) which tries different combinations of hyperparameter values to find the best values. Read the documentation to learn more. There is also an example in Chapter-2 of the textbook (page 76) that you should read. Running this part may take a while (**depending on your computer speed it may take more than an hour**).\n",
    "\n",
    "> `param_grid` argument of `GridSearchCV` is a dictionary that contains the hyperparameters and their corresponding values that you should include in your search. Other than the `param_grid`, you can use the default arguments of `GridSearchCV`. You may want to set `verbose=True` to get more info in the output.\n",
    "\n",
    "> **The minimum requirement** for this part of the assignment is that you should try the following hyperparameters, each with at least two values:\n",
    "`n_estimators, criterion, bootstrap, max_depth, max_features, min_samples_leaf, min_samples_split`"
   ]
  },
  {
   "cell_type": "code",
   "execution_count": 33,
   "metadata": {
    "id": "MMoBAREwvCQq"
   },
   "outputs": [
    {
     "name": "stdout",
     "output_type": "stream",
     "text": [
      "Grid search for hyperparameter tuning of random forest classifier\n",
      "Best Parameters: {'criterion': 'entropy', 'max_depth': 2, 'max_features': 8, 'min_samples_leaf': 1, 'min_samples_split': 2, 'n_estimators': 3}\n"
     ]
    }
   ],
   "source": [
    "# Perform a GridSearch on rf hyperparameters [10 points]\n",
    "rf_clf = RandomForestClassifier()\n",
    "param_grid = [\n",
    "    {'n_estimators': [3, 10, 30], 'max_features': [2, 4, 6, 8], 'max_depth':[2,7], 'min_samples_leaf':[1,2],\n",
    "    'min_samples_split': [2,5], 'criterion': ['entropy']}\n",
    "  ]\n",
    "\n",
    "grid_search = GridSearchCV(rf_clf, param_grid, cv=5)\n",
    "best_rf_clf = grid_search.fit(X_test,y_test)\n",
    "print('Grid search for hyperparameter tuning of random forest classifier')\n",
    "print('Best Parameters: ' + str(best_rf_clf.best_params_))"
   ]
  },
  {
   "cell_type": "code",
   "execution_count": 34,
   "metadata": {
    "id": "uSXhaNl7vCQq"
   },
   "outputs": [
    {
     "name": "stdout",
     "output_type": "stream",
     "text": [
      "RandomForestClassifier(criterion='entropy', max_depth=2, max_features=8,\n",
      "                       n_estimators=3)\n"
     ]
    }
   ],
   "source": [
    "best_rf = best_rf_clf.best_estimator_\n",
    "print(best_rf)"
   ]
  },
  {
   "cell_type": "code",
   "execution_count": 35,
   "metadata": {
    "id": "UaGN6GVovCQq"
   },
   "outputs": [],
   "source": [
    "# Train and test best_rf\n",
    "best_rf.fit(X_train, y_train)\n",
    "best_rf_predictions = best_rf.predict(X_test)"
   ]
  },
  {
   "cell_type": "code",
   "execution_count": 36,
   "metadata": {
    "id": "SLoSxyPpvCQr"
   },
   "outputs": [
    {
     "name": "stdout",
     "output_type": "stream",
     "text": [
      "Best RF Accuracy:  0.9511201629327902\n",
      "Best RF Balanced Accuracy:  0.5\n",
      "Best RF Precision:  0.0\n",
      "Best RF Recall:  0.0\n",
      "Best RF confusion matrix: \n",
      " [[1401    0]\n",
      " [  72    0]]\n"
     ]
    },
    {
     "name": "stderr",
     "output_type": "stream",
     "text": [
      "/opt/anaconda3/lib/python3.8/site-packages/sklearn/metrics/_classification.py:1245: UndefinedMetricWarning: Precision is ill-defined and being set to 0.0 due to no predicted samples. Use `zero_division` parameter to control this behavior.\n",
      "  _warn_prf(average, modifier, msg_start, len(result))\n"
     ]
    }
   ],
   "source": [
    "# Compute and print the accuracy, balanced accuracy, precision, recall and confusion matrix of best_rf\n",
    "best_rf_acc = accuracy_score(y_test,best_rf_predictions)\n",
    "best_rf_bal_acc = balanced_accuracy_score(y_test, best_rf_predictions)\n",
    "best_rf_precision = precision_score(y_test, best_rf_predictions)\n",
    "best_rf_recall = recall_score(y_test, best_rf_predictions)\n",
    "best_rf_matrix = confusion_matrix(y_test, best_rf_predictions)\n",
    "print('Best RF Accuracy: ', best_rf_acc)\n",
    "print('Best RF Balanced Accuracy: ', best_rf_bal_acc)\n",
    "print('Best RF Precision: ', best_rf_precision)\n",
    "print('Best RF Recall: ', best_rf_recall)\n",
    "print('Best RF confusion matrix: \\n {}'.format(best_rf_matrix))"
   ]
  },
  {
   "cell_type": "markdown",
   "metadata": {
    "id": "w4BRNwPkvCQr"
   },
   "source": [
    "> The following cell shows how you can prepare the required scores to plot ROC curve of random forest classifier using `fpr`, `tpr`, and `threshold` returned by [`metrics.roc_curve`](https://scikit-learn.org/stable/modules/generated/sklearn.metrics.roc_curve.html) and class probabilities using [`predict_proba()`](https://scikit-learn.org/stable/modules/generated/sklearn.ensemble.RandomForestClassifier.html#sklearn.ensemble.RandomForestClassifier.predict_proba) method of [`RandomForest`](https://scikit-learn.org/stable/modules/generated/sklearn.ensemble.RandomForestClassifier.html)."
   ]
  },
  {
   "cell_type": "code",
   "execution_count": 37,
   "metadata": {
    "id": "Km6zfZmGvCQr"
   },
   "outputs": [],
   "source": [
    "# Get class probabilities, fpr, tpr and threshold for Random Forest classifier\n",
    "rf_probs = best_rf.predict_proba(X_test)\n",
    "rf_preds = rf_probs[:,1]\n",
    "rf_fpr, rf_tpr, rf_threshold = metrics.roc_curve(y_test, rf_preds)\n",
    "rf_roc_auc = metrics.auc(rf_fpr, rf_tpr)"
   ]
  },
  {
   "cell_type": "code",
   "execution_count": 38,
   "metadata": {
    "id": "PcqdWNJPvCQr",
    "outputId": "fc2b6884-b149-43ac-c4ca-24c66f9b9988"
   },
   "outputs": [
    {
     "data": {
      "image/png": "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\n",
      "text/plain": [
       "<Figure size 432x288 with 1 Axes>"
      ]
     },
     "metadata": {
      "needs_background": "light"
     },
     "output_type": "display_data"
    }
   ],
   "source": [
    "# Plot ROC curve for Random Forest classifier\n",
    "# Incomplete plots with no title, axis labels or legend get zero\n",
    "ns_probs = [0 for _ in range(len(y_test))]\n",
    "ns_fpr, ns_tpr , ns_threshold= metrics.roc_curve(y_test, ns_probs)\n",
    "ns_roc_auc = metrics.auc(ns_fpr, ns_tpr)\n",
    "plt.plot(ns_fpr, ns_tpr,color='red',linestyle='--',label= 'Random_Predication' % ns_roc_auc)\n",
    "plt.plot(rf_fpr,rf_tpr,color='blue',label= 'AUC_RF %0.3f' % rf_roc_auc)\n",
    "plt.title('ROC')\n",
    "plt.ylabel('True Postive Rate')\n",
    "plt.xlabel('False Postive Rate')\n",
    "plt.legend(loc='lower right')\n",
    "plt.show()\n"
   ]
  },
  {
   "cell_type": "markdown",
   "metadata": {
    "id": "lPq5LbaNvCQr"
   },
   "source": [
    "> Next, you should plot ROC curves of BOTH classifiers in one plot. You should first get the probs, preds, fpr, tpr, and threshold for `xgb`. Your plot should be complete and match with the required specifications. A complete plot has title, axis labels and legend."
   ]
  },
  {
   "cell_type": "code",
   "execution_count": 39,
   "metadata": {
    "id": "8L7FDgvwvCQs"
   },
   "outputs": [
    {
     "data": {
      "text/plain": [
       "0.8304435323974939"
      ]
     },
     "execution_count": 39,
     "metadata": {},
     "output_type": "execute_result"
    }
   ],
   "source": [
    "# Get class probabilities, fpr, tpr and threshold for XGBoost classifier\n",
    "# Hint: It should be very similar to rf\n",
    "xgb_probs = best_rf.predict_proba(X_test)\n",
    "xgb_preds = xgb_probs[:,1]\n",
    "xgb_fpr, xgb_tpr, xgb_threshold =  metrics.roc_curve(y_test, xgb_preds)\n",
    "xgb_roc_auc = metrics.auc(xgb_fpr, xgb_tpr)\n",
    "xgb_roc_auc"
   ]
  },
  {
   "cell_type": "code",
   "execution_count": 40,
   "metadata": {
    "id": "zLrNdzrSvCQs",
    "outputId": "d2dbff84-1ba3-47c7-b419-18fb019d2129"
   },
   "outputs": [
    {
     "data": {
      "image/png": "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\n",
      "text/plain": [
       "<Figure size 432x288 with 1 Axes>"
      ]
     },
     "metadata": {
      "needs_background": "light"
     },
     "output_type": "display_data"
    }
   ],
   "source": [
    "''' Plot ROC for BOTH classifiers rf and xgb with different colors in one plot,\n",
    "and with AUC scores shown on the 'lower right' of the plot. [10 points]\n",
    "\n",
    "Write as many number of lines of code as needed.\n",
    "\n",
    "Hint: You may use Random Forest ROC curve as a reference for writing your code.\n",
    "\n",
    "Your plot should be complete with title, axis labels and legend.\n",
    "\n",
    "Incomplete plots get zero.\n",
    "'''\n",
    "ns_probs = [0 for _ in range(len(y_test))]\n",
    "ns_fpr, ns_tpr , ns_threshold= metrics.roc_curve(y_test, ns_probs)\n",
    "ns_roc_auc = metrics.auc(ns_fpr, ns_tpr)\n",
    "plt.plot(ns_fpr, ns_tpr,linestyle='--',label= 'Random_Predication' % ns_roc_auc)\n",
    "\n",
    "plt.plot(rf_fpr,rf_tpr,label= 'AUC_RF %0.3f' % rf_roc_auc)\n",
    "plt.plot(xgb_fpr, xgb_tpr,color='blue',linestyle='--',label= 'AUC_XGB %0.3f' % xgb_roc_auc)\n",
    "plt.title('ROC')\n",
    "plt.ylabel('True Postive Rate')\n",
    "plt.xlabel('False Postive Rate')\n",
    "plt.legend(loc='lower right')\n",
    "plt.show()"
   ]
  },
  {
   "cell_type": "markdown",
   "metadata": {
    "id": "ukiDJ3lovCQs"
   },
   "source": [
    "### Part-III Questions"
   ]
  },
  {
   "cell_type": "markdown",
   "metadata": {
    "id": "36kfDeoyvCQs"
   },
   "source": [
    "- **Q4** [2 points]- Check the `best_rf` performance scores and explain whether or not fine-tuning hyperparameters using `GridSearch` helped resolve the performance issues with this imablanced dataset. Explain why COMPLETELY. You must justify your answer and make arguments.\n",
    "\n",
    "ANSWER: Fine-tuning hyperparameters did not help improve the model. Because the model is highly skewed or highly imbalanced, fine-tuning would not make much difference on the balanced_accuracy score. Gridsearch is more likely to go in the direction of the majority class when trying to find the best hyperparameters which will led to the same result. "
   ]
  },
  {
   "cell_type": "markdown",
   "metadata": {
    "id": "w6vXHgEIvCQs"
   },
   "source": [
    "- **Q5** [2 points]- Checking the ROC curves of Random Forest and XGBoost, and without seeing AUC scores, how would you determine which classifier has a better performance? Explain.\n",
    "\n",
    "ANSWER: ROC curve plots sensitivty versus 1-specificity, and the line that is dotted is just a random prediction that is far from accurate. So, the further, to wards the top-left, the curve is from that random predicted line the better the model is. "
   ]
  },
  {
   "cell_type": "markdown",
   "metadata": {
    "id": "wT3C0Nr1vCQt"
   },
   "source": [
    "- **Q6** [2 points]- Based on the ROC curves and auc scores, can you say that these classifiers have a good performance? In other words, is ROC curve a good indicator for classifier performance for this dataset? Justify your answer with clear arguments.\n",
    "\n",
    "ANSWER: In the case of this problem, the ROC is not a good indicater of performance. Because it is plots the true postive rate against the false postive rate, it will produce a misleading performance curve. In our data set the TPR is high and the FPR is low because of the skewed dataset. There is no way to know if the FPR would be high because we dont have enough data of the minority class. This will make the score to be unreliable and misleading. "
   ]
  },
  {
   "cell_type": "markdown",
   "metadata": {
    "id": "XbK0w68AvCQt"
   },
   "source": [
    "## Grading\n",
    "\n",
    "Assignment-1 has a maximum of 100 points. Make sure that you get the correct outputs for all cells that you implement and give complete answers to all questions. Also, your notebook should be written with no grammatical and spelling errors and should be easy-to-read.\n",
    "\n",
    "The breakdown of the 100 points is as follows:\n",
    "\n",
    "- Part-I - Preprocessing: 30 points (pie chart has 10 points) **Note**: Incomplete pie charts get zero.\n",
    "   \n",
    "\n",
    "- Part-II - 30 points\n",
    "    - Implementation and results: 10 points\n",
    "    - Part-II Questions: 20 points\n",
    "    \n",
    "\n",
    "- Part-III - 40 points\n",
    "    - Implementation, results, and plots: 34 points **Note**: Incomplete GridSearch and/or ROC plots get zero!\n",
    "    - Part-III Questions: 6 points\n",
    "    \n",
    "\n",
    "<b>Note: </b>Follow the instructions of each section carefully. Up to 10 points may be deducted if your submitted notebook is not easy to read and follow or if it has grammatical, spelling or formatting issues.\n",
    "\n",
    "Grading will be based on: \n",
    "\n",
    "  * correct implementation,\n",
    "  * running ALL cells and correct outputs and plots, (cells with no output get ZERO for the whole part that includes the cell)\n",
    "  * correct answer to the questions,\n",
    "  * readability of the notebook."
   ]
  },
  {
   "cell_type": "markdown",
   "metadata": {
    "id": "o5fP3bzhvCQt"
   },
   "source": [
    "## Submission"
   ]
  },
  {
   "cell_type": "markdown",
   "metadata": {
    "id": "ZVwnQqtGvCQt"
   },
   "source": [
    "Name your notebook ```Lastname-A1.ipynb```. Submit the completed notebook using the ```Assignment-1``` link on Blackboard.\n",
    "  \n",
    "<font color=red><b>Due Date: Thursday Sep 30, 11:59PM.</b></font>"
   ]
  }
 ],
 "metadata": {
  "colab": {
   "name": "ML-Assignment-1-F21.ipynb",
   "provenance": []
  },
  "kernelspec": {
   "display_name": "Python 3",
   "language": "python",
   "name": "python3"
  },
  "language_info": {
   "codemirror_mode": {
    "name": "ipython",
    "version": 3
   },
   "file_extension": ".py",
   "mimetype": "text/x-python",
   "name": "python",
   "nbconvert_exporter": "python",
   "pygments_lexer": "ipython3",
   "version": "3.8.8"
  }
 },
 "nbformat": 4,
 "nbformat_minor": 1
}
